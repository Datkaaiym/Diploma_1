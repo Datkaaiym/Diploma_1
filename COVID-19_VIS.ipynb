{
 "cells": [
  {
   "cell_type": "markdown",
   "metadata": {},
   "source": [
    "# Covid-19 Издөө маалыматтарды талдоо [Data Analysis ]"
   ]
  },
  {
   "cell_type": "markdown",
   "metadata": {},
   "source": [
    "## Covid-19 Маалыматтар базасы "
   ]
  },
  {
   "cell_type": "code",
   "execution_count": null,
   "metadata": {},
   "outputs": [],
   "source": [
    "#!pip install folium\n",
    "#!pip install plotly"
   ]
  },
  {
   "cell_type": "code",
   "execution_count": null,
   "metadata": {},
   "outputs": [],
   "source": [
    "# imports\n",
    "import plotly.express as px\n",
    "import plotly.graph_objects as go\n",
    "import plotly.figure_factory as ff\n",
    "from plotly.subplots import make_subplots\n",
    "\n",
    "import folium\n",
    "\n",
    "\n",
    "import pandas as pd\n",
    "import numpy as np\n",
    "import matplotlib.pyplot as plt\n",
    "\n",
    "%matplotlib inline\n",
    "\n",
    "import math\n",
    "import random\n",
    "from datetime import timedelta\n",
    "\n",
    "import warnings\n",
    "warnings.filterwarnings('ignore')\n",
    "\n",
    "#color pallette\n",
    "cnf = '#393e46'\n",
    "dth = '#ff2e63'\n",
    "rec = '#21bf73'\n",
    "act = '#fe9801'"
   ]
  },
  {
   "cell_type": "markdown",
   "metadata": {},
   "source": [
    "# Маалыматтар базасын даярдоо"
   ]
  },
  {
   "cell_type": "code",
   "execution_count": null,
   "metadata": {},
   "outputs": [],
   "source": [
    "import plotly as py\n",
    "py.offline.init_notebook_mode(connected = True)"
   ]
  },
  {
   "cell_type": "code",
   "execution_count": null,
   "metadata": {},
   "outputs": [],
   "source": [
    "import os"
   ]
  },
  {
   "cell_type": "code",
   "execution_count": null,
   "metadata": {},
   "outputs": [],
   "source": [
    "try:\n",
    "    os.system(\"rm -rf Covid-19-Preprocessed-Dataset\")\n",
    "except:\n",
    "    print('File does not exist')"
   ]
  },
  {
   "cell_type": "code",
   "execution_count": null,
   "metadata": {},
   "outputs": [],
   "source": []
  },
  {
   "cell_type": "code",
   "execution_count": null,
   "metadata": {},
   "outputs": [],
   "source": [
    "#!git clone https://github.com/laxmimerit/Covid-19-Preprocessed-Dataset.git"
   ]
  },
  {
   "cell_type": "code",
   "execution_count": null,
   "metadata": {},
   "outputs": [],
   "source": [
    "df = pd.read_csv('Covid-19-Preprocessed-Dataset-main/preprocessed/covid_19_data_cleaned.csv', parse_dates=['Date'])\n",
    "\n",
    "country_daywise = pd.read_csv('Covid-19-Preprocessed-Dataset-main/preprocessed/country_daywise.csv', parse_dates=['Date'])\n",
    "countywise = pd.read_csv('Covid-19-Preprocessed-Dataset-main/preprocessed/countrywise.csv')\n",
    "daywise = pd.read_csv('Covid-19-Preprocessed-Dataset-main/preprocessed/daywise.csv', parse_dates=['Date'])\n"
   ]
  },
  {
   "cell_type": "code",
   "execution_count": null,
   "metadata": {},
   "outputs": [],
   "source": [
    "df['Province/State'] = df['Province/State'].fillna(\"\")\n",
    "df.head()"
   ]
  },
  {
   "cell_type": "code",
   "execution_count": null,
   "metadata": {},
   "outputs": [],
   "source": [
    "confirmed = df.groupby('Date').sum()['Confirmed'].reset_index()\n",
    "recovered = df.groupby('Date').sum()['Recovered'].reset_index()\n",
    "deaths = df.groupby('Date').sum()['Deaths'].reset_index()\n",
    "deaths.head()"
   ]
  },
  {
   "cell_type": "code",
   "execution_count": null,
   "metadata": {},
   "outputs": [],
   "source": []
  },
  {
   "cell_type": "code",
   "execution_count": null,
   "metadata": {},
   "outputs": [],
   "source": [
    "df.isnull().sum()"
   ]
  },
  {
   "cell_type": "code",
   "execution_count": null,
   "metadata": {},
   "outputs": [],
   "source": [
    "df.info()"
   ]
  },
  {
   "cell_type": "code",
   "execution_count": null,
   "metadata": {},
   "outputs": [],
   "source": [
    "df.query('Country == \"US\"')"
   ]
  },
  {
   "cell_type": "markdown",
   "metadata": {},
   "source": [
    "# Дүйнө жүзү боюнча *тастыкталган*, *айыгып кеткен* жана *каза болгондордун* жалпы саны "
   ]
  },
  {
   "cell_type": "code",
   "execution_count": null,
   "metadata": {},
   "outputs": [],
   "source": [
    "confirmed.tail()"
   ]
  },
  {
   "cell_type": "code",
   "execution_count": null,
   "metadata": {},
   "outputs": [],
   "source": [
    "recovered.tail()"
   ]
  },
  {
   "cell_type": "code",
   "execution_count": null,
   "metadata": {},
   "outputs": [],
   "source": [
    "deaths.tail()"
   ]
  },
  {
   "cell_type": "code",
   "execution_count": null,
   "metadata": {},
   "outputs": [],
   "source": [
    "# Import the necessaries libraries\n",
    "import plotly.offline as pyo\n",
    "# Set notebook mode to work in offline\n",
    "pyo.init_notebook_mode()\n"
   ]
  },
  {
   "cell_type": "code",
   "execution_count": null,
   "metadata": {},
   "outputs": [],
   "source": [
    "fig = go.Figure()\n",
    "fig.add_trace(go.Scatter(x = confirmed['Date'], y = confirmed['Confirmed'], mode = 'lines+markers', name = 'Тастыкталган', line = dict(color = \"Orange\", width = 2)))\n",
    "fig.add_trace(go.Scatter(x = recovered['Date'], y = recovered['Recovered'], mode = 'lines+markers', name = 'Айыгып кеткен', line = dict(color = \"Green\", width = 2)))\n",
    "fig.add_trace(go.Scatter(x = deaths['Date'], y = deaths['Deaths'], mode = 'lines+markers', name = 'Каза болгон', line = dict(color = \"Red\", width = 2)))\n",
    "fig.update_layout(title = 'Дүйнө жүзүндөгү COVID-19 учурлары', xaxis_tickfont_size = 14, yaxis = dict(title = 'Учурлардын саны'))\n",
    "\n",
    "fig.show()"
   ]
  },
  {
   "cell_type": "markdown",
   "metadata": {},
   "source": [
    "# Дүйнөлүк картадагы учурлардын жыштыгынын анимациясы"
   ]
  },
  {
   "cell_type": "code",
   "execution_count": null,
   "metadata": {},
   "outputs": [],
   "source": [
    "df.info()"
   ]
  },
  {
   "cell_type": "code",
   "execution_count": null,
   "metadata": {},
   "outputs": [],
   "source": [
    "df['Date'] = df['Date'].astype(str)"
   ]
  },
  {
   "cell_type": "code",
   "execution_count": null,
   "metadata": {},
   "outputs": [],
   "source": [
    "df.info()"
   ]
  },
  {
   "cell_type": "code",
   "execution_count": null,
   "metadata": {},
   "outputs": [],
   "source": [
    "df.head()"
   ]
  },
  {
   "cell_type": "code",
   "execution_count": null,
   "metadata": {},
   "outputs": [],
   "source": [
    "fig = px.density_mapbox(df, lat = 'Lat', lon = 'Long', hover_name = 'Country', hover_data = ['Confirmed', 'Recovered', 'Deaths'], animation_frame='Date', color_continuous_scale='Portland', radius = 7, zoom = 0, height= 700)\n",
    "fig.update_layout(title = 'Убакыттын өтүшү менен дүйнө жүзү боюнча COVID-19 учурлары')\n",
    "fig.update_layout(mapbox_style = 'open-street-map', mapbox_center_lon = 0)\n",
    "\n",
    "\n",
    "fig.show()"
   ]
  },
  {
   "cell_type": "code",
   "execution_count": null,
   "metadata": {},
   "outputs": [],
   "source": []
  },
  {
   "cell_type": "markdown",
   "metadata": {},
   "source": [
    "# Total Cases on Ships "
   ]
  },
  {
   "cell_type": "code",
   "execution_count": null,
   "metadata": {},
   "outputs": [],
   "source": [
    "df['Date'] = pd.to_datetime(df['Date'])\n",
    "df.info()"
   ]
  },
  {
   "cell_type": "code",
   "execution_count": null,
   "metadata": {},
   "outputs": [],
   "source": [
    "# Ships\n",
    "# =====================\n",
    "\n",
    "ship_rows = df['Province/State'].str.contains('Grand Princess') | df['Province/State'].str.contains('Diamond Princess') | df['Country'].str.contains('Grand Princess') | df['Country'].str.contains('Diamond Princess') | df['Country'].str.contains('MS Zaandam')\n",
    "ship = df[ship_rows]\n",
    "\n",
    "df = df[~ship_rows]"
   ]
  },
  {
   "cell_type": "code",
   "execution_count": null,
   "metadata": {},
   "outputs": [],
   "source": [
    "ship_latest = ship[ship['Date'] == max(ship['Date'])]\n",
    "ship_latest"
   ]
  },
  {
   "cell_type": "code",
   "execution_count": null,
   "metadata": {},
   "outputs": [],
   "source": [
    "ship_latest.style.background_gradient(cmap = 'Pastel1_r')"
   ]
  },
  {
   "cell_type": "code",
   "execution_count": null,
   "metadata": {},
   "outputs": [],
   "source": []
  },
  {
   "cell_type": "code",
   "execution_count": null,
   "metadata": {},
   "outputs": [],
   "source": []
  },
  {
   "cell_type": "markdown",
   "metadata": {},
   "source": [
    "# Убакыттын өтүшү менен аянты"
   ]
  },
  {
   "cell_type": "code",
   "execution_count": null,
   "metadata": {},
   "outputs": [],
   "source": [
    "temp = df.groupby('Date')['Confirmed', 'Deaths', 'Recovered', 'Active'].sum().reset_index()\n",
    "temp = temp[temp['Date']==max(temp['Date'])].reset_index(drop = True)\n",
    "\n",
    "tm = temp.melt(id_vars = 'Date', value_vars = ['Active', 'Deaths', 'Recovered'])\n",
    "fig = px.treemap(tm, path = ['variable'], values = 'value', height = 250, width = 800, color_discrete_sequence=[act, rec, dth])\n",
    "\n",
    "fig.data[0].textinfo = 'label+text+value'\n",
    "fig.show()"
   ]
  },
  {
   "cell_type": "code",
   "execution_count": null,
   "metadata": {},
   "outputs": [],
   "source": [
    "temp = df.groupby('Date')['Recovered', 'Deaths', 'Active'].sum().reset_index()\n",
    "temp = temp.melt(id_vars = 'Date', value_vars = ['Recovered', 'Deaths', 'Active'], var_name = 'Case', value_name = 'Count')\n",
    "\n",
    "fig = px.area(temp, x = 'Date', y = 'Count', color= 'Case', height = 400, title = 'Убакыттын өтүшү менен', color_discrete_sequence=[rec, dth,  act])\n",
    "fig.update_layout(xaxis_rangeslider_visible=True)\n",
    "fig.show()"
   ]
  },
  {
   "cell_type": "code",
   "execution_count": null,
   "metadata": {},
   "outputs": [],
   "source": []
  },
  {
   "cell_type": "markdown",
   "metadata": {},
   "source": [
    "# Folium Maps - картасы"
   ]
  },
  {
   "cell_type": "code",
   "execution_count": null,
   "metadata": {},
   "outputs": [],
   "source": [
    "# Folium Maps'те Дүйнө жүзүндөгү COVID-19 учурлары"
   ]
  },
  {
   "cell_type": "code",
   "execution_count": null,
   "metadata": {},
   "outputs": [],
   "source": [
    "temp = df[df['Date']==max(df['Date'])]\n",
    "\n",
    "m = folium.Map(location=[0, 0], tiles='cartodbpositron', min_zoom = 1, max_zoom=4, zoom_start=1)\n",
    "\n",
    "for i in range(0, len(temp)):\n",
    "    folium.Circle(location=[temp.iloc[i]['Lat'], temp.iloc[i]['Long']], color = 'crimson', fill = 'crimson',\n",
    "                 tooltip = '<li><bold> Country: ' + str(temp.iloc[i]['Country'])+\n",
    "                            '<li><bold> Province: ' + str(temp.iloc[i]['Province/State'])+\n",
    "                             '<li><bold> Confirmed: ' + str(temp.iloc[i]['Confirmed'])+\n",
    "                             '<li><bold> Deaths: ' + str(temp.iloc[i]['Deaths']),\n",
    "                 radius = int(temp.iloc[i]['Confirmed'])**0.5).add_to(m)\n",
    "    \n",
    "\n",
    "m"
   ]
  },
  {
   "cell_type": "code",
   "execution_count": null,
   "metadata": {},
   "outputs": [],
   "source": []
  },
  {
   "cell_type": "markdown",
   "metadata": {},
   "source": [
    "# Choropleth Map менен аныкталган учурлар"
   ]
  },
  {
   "cell_type": "code",
   "execution_count": null,
   "metadata": {},
   "outputs": [],
   "source": [
    "country_daywise.head()"
   ]
  },
  {
   "cell_type": "code",
   "execution_count": null,
   "metadata": {},
   "outputs": [],
   "source": [
    "fig = px.choropleth(country_daywise, locations= 'Country', locationmode='country names', color = np.log(country_daywise['Confirmed']),\n",
    "                   hover_name = 'Country', animation_frame=country_daywise['Date'].dt.strftime('%Y-%m-%d'),\n",
    "                   title='Убакыттын өтүшү менен учурлар көрсөтүлдү', color_continuous_scale=px.colors.sequential.Inferno)\n",
    "\n",
    "fig.update(layout_coloraxis_showscale = True)\n",
    "fig.show()"
   ]
  },
  {
   "cell_type": "code",
   "execution_count": null,
   "metadata": {},
   "outputs": [],
   "source": [
    "fig = px.choropleth(country_daywise, locations= 'Country', locationmode='country names', color = country_daywise['Confirmed'],\n",
    "                   hover_name = 'Country', animation_frame=country_daywise['Date'].dt.strftime('%Y-%m-%d'),\n",
    "                   title='Убакыттын өтүшү менен учурлар', color_continuous_scale=px.colors.sequential.Inferno)\n",
    "\n",
    "fig.update(layout_coloraxis_showscale = True)\n",
    "fig.show()"
   ]
  },
  {
   "cell_type": "markdown",
   "metadata": {},
   "source": [
    "# Аныкталган жана Каза болгон учурлар Static Colormap менен"
   ]
  },
  {
   "cell_type": "code",
   "execution_count": null,
   "metadata": {},
   "outputs": [],
   "source": [
    "fig_c = px.choropleth(countywise, locations='Country', locationmode='country names',\n",
    "                     color = np.log(countywise['Confirmed']), hover_name = 'Country',\n",
    "                     hover_data = ['Confirmed'])\n",
    "\n",
    "temp = countywise[countywise['Deaths']>0]\n",
    "fig_d = px.choropleth(temp, locations='Country', locationmode='country names',\n",
    "                     color = np.log(temp['Deaths']), hover_name = 'Country',\n",
    "                     hover_data = ['Deaths'])\n",
    "\n",
    "fig = make_subplots(rows = 1, cols = 2, subplot_titles= ['Аныкталган', 'Каза болгон'],\n",
    "                   specs = [[{'type': 'choropleth'}, {'type': 'choropleth'}]])\n",
    "\n",
    "fig.add_trace(fig_c['data'][0], row = 1, col = 1)\n",
    "fig.add_trace(fig_d['data'][0], row = 1, col = 2)\n",
    "\n",
    "fig.update(layout_coloraxis_showscale = False)\n",
    "\n",
    "fig.show()"
   ]
  },
  {
   "cell_type": "markdown",
   "metadata": {},
   "source": [
    "# Каза болгон жана Айыгып кеткен ар бир 100 учуру"
   ]
  },
  {
   "cell_type": "code",
   "execution_count": null,
   "metadata": {},
   "outputs": [],
   "source": [
    "daywise.head()"
   ]
  },
  {
   "cell_type": "code",
   "execution_count": null,
   "metadata": {},
   "outputs": [],
   "source": [
    "fig_c = px.bar(daywise, x = 'Date', y = 'Confirmed', color_discrete_sequence=[act])\n",
    "fig_d = px.bar(daywise, x = 'Date', y = 'Deaths', color_discrete_sequence=[dth])\n",
    "\n",
    "fig = make_subplots(rows = 1, cols = 2, shared_xaxes=False, horizontal_spacing=0.1,\n",
    "                   subplot_titles=('Аныкталган учуру', 'Каза болгон учуру'))\n",
    "\n",
    "fig.add_trace(fig_c['data'][0], row = 1, col = 1)\n",
    "fig.add_trace(fig_d['data'][0], row = 1, col = 2)\n",
    "\n",
    "fig.update_layout(height = 400)\n",
    "\n",
    "fig.show()\n"
   ]
  },
  {
   "cell_type": "code",
   "execution_count": null,
   "metadata": {},
   "outputs": [],
   "source": [
    "daywise.columns"
   ]
  },
  {
   "cell_type": "code",
   "execution_count": null,
   "metadata": {},
   "outputs": [],
   "source": [
    "fig1 = px.line(daywise, x = 'Date', y = 'Deaths / 100 Cases', color_discrete_sequence=[dth])\n",
    "fig2 = px.line(daywise, x = 'Date', y = 'Recovered / 100 Cases', color_discrete_sequence=[rec])\n",
    "fig3 = px.line(daywise, x = 'Date', y = 'Deaths / 100 Recovered', color_discrete_sequence=['aqua'])\n",
    "\n",
    "fig = make_subplots(rows = 1, cols = 3, shared_xaxes=False,\n",
    "                   subplot_titles=('Каза болгон / 100 учур', 'Айыгып кеткен / 100 учур', 'Каза болгон / 100 Айыгып кеткен'))\n",
    "\n",
    "fig.add_trace(fig1['data'][0], row = 1, col = 1)\n",
    "fig.add_trace(fig2['data'][0], row = 1, col = 2)\n",
    "fig.add_trace(fig3['data'][0], row = 1, col = 3)\n",
    "\n",
    "fig.update_layout(height = 400)\n",
    "fig.show()"
   ]
  },
  {
   "cell_type": "code",
   "execution_count": null,
   "metadata": {},
   "outputs": [],
   "source": []
  },
  {
   "cell_type": "markdown",
   "metadata": {},
   "source": [
    "# Жаңы учурлардын жана Өлкөлөрдүн саны"
   ]
  },
  {
   "cell_type": "code",
   "execution_count": null,
   "metadata": {},
   "outputs": [],
   "source": [
    "fig_c = px.bar(daywise, x = 'Date', y = 'Confirmed', color_discrete_sequence=[act])\n",
    "fig_d = px.bar(daywise, x = 'Date', y = 'No. of Countries', color_discrete_sequence=[dth])\n",
    "\n",
    "fig = make_subplots(rows = 1, cols = 2, shared_xaxes=False, horizontal_spacing=0.1,\n",
    "                   subplot_titles=('Жаңы учурлардын күндүк саны', 'Өлкөлөрдүн саны'))\n",
    "\n",
    "fig.add_trace(fig_c['data'][0], row = 1, col = 1)\n",
    "fig.add_trace(fig_d['data'][0], row = 1, col = 2)\n",
    "\n",
    "fig.show()"
   ]
  },
  {
   "cell_type": "markdown",
   "metadata": {},
   "source": [
    "# TOP 15 Өлкөлөрдүн анализдөөсү"
   ]
  },
  {
   "cell_type": "code",
   "execution_count": null,
   "metadata": {},
   "outputs": [],
   "source": [
    "countywise.columns"
   ]
  },
  {
   "cell_type": "code",
   "execution_count": null,
   "metadata": {
    "scrolled": false
   },
   "outputs": [],
   "source": [
    "top  = 15\n",
    "\n",
    "fig_c = px.bar(countywise.sort_values('Confirmed').tail(top), x = 'Confirmed', y = 'Country',\n",
    "              text = 'Confirmed', orientation='h', color_discrete_sequence=[act])\n",
    "fig_d = px.bar(countywise.sort_values('Deaths').tail(top), x = 'Deaths', y = 'Country',\n",
    "              text = 'Deaths', orientation='h', color_discrete_sequence=[dth])\n",
    "\n",
    "\n",
    "fig_a = px.bar(countywise.sort_values('Active').tail(top), x = 'Active', y = 'Country',\n",
    "              text = 'Active', orientation='h', color_discrete_sequence=['#434343'])\n",
    "fig_r = px.bar(countywise.sort_values('Recovered').tail(top), x = 'Recovered', y = 'Country',\n",
    "              text = 'Recovered', orientation='h', color_discrete_sequence=[rec])\n",
    "\n",
    "\n",
    "fig_dc = px.bar(countywise.sort_values('Deaths / 100 Cases').tail(top), x = 'Deaths / 100 Cases', y = 'Country',\n",
    "              text = 'Deaths / 100 Cases', orientation='h', color_discrete_sequence=['#f84351'])\n",
    "fig_rc = px.bar(countywise.sort_values('Recovered / 100 Cases').tail(top), x = 'Recovered / 100 Cases', y = 'Country',\n",
    "              text = 'Recovered / 100 Cases', orientation='h', color_discrete_sequence=['#a45398'])\n",
    "\n",
    "\n",
    "fig_nc = px.bar(countywise.sort_values('New Cases').tail(top), x = 'New Cases', y = 'Country',\n",
    "              text = 'New Cases', orientation='h', color_discrete_sequence=['#f04341'])\n",
    "temp = countywise[countywise['Population']>1000000]\n",
    "fig_p = px.bar(temp.sort_values('Cases / Million People').tail(top), x = 'Cases / Million People', y = 'Country',\n",
    "              text = 'Cases / Million People', orientation='h', color_discrete_sequence=['#b40398'])\n",
    "\n",
    "\n",
    "\n",
    "fig_wc = px.bar(countywise.sort_values('1 week change').tail(top), x = '1 week change', y = 'Country',\n",
    "              text = '1 week change', orientation='h', color_discrete_sequence=['#c04041'])\n",
    "temp = countywise[countywise['Confirmed']>100]\n",
    "fig_wi = px.bar(temp.sort_values('1 week % increase').tail(top), x = '1 week % increase', y = 'Country',\n",
    "              text = '1 week % increase', orientation='h', color_discrete_sequence=['#b00398'])\n",
    "\n",
    "\n",
    "fig = make_subplots(rows = 5, cols = 2, shared_xaxes=False, horizontal_spacing=0.2, \n",
    "                    vertical_spacing=.05,\n",
    "                   subplot_titles=('Тастыкталган учурлар', 'Каза болгон учурлар', 'Айыгып кеткен учурлар', 'Активдүү учурлар',\n",
    "                                  'Каза болгон / 100 учур', 'Айыгып кеткен / 100 учур',\n",
    "                                  'Жаңы учурлар', 'Учурлар / Миллион киши',\n",
    "                                  '1 жумадагы өзгөрүш', '1 жумадагы % көбөйүү'))\n",
    "\n",
    "fig.add_trace(fig_c['data'][0], row = 1, col = 1)\n",
    "fig.add_trace(fig_d['data'][0], row = 1, col = 2)\n",
    "\n",
    "fig.add_trace(fig_r['data'][0], row = 2, col = 1)\n",
    "fig.add_trace(fig_a['data'][0], row = 2, col = 2)\n",
    "\n",
    "fig.add_trace(fig_dc['data'][0], row = 3, col = 1)\n",
    "fig.add_trace(fig_rc['data'][0], row = 3, col = 2)\n",
    "\n",
    "fig.add_trace(fig_nc['data'][0], row = 4, col = 1)\n",
    "fig.add_trace(fig_p['data'][0], row = 4, col = 2)\n",
    "\n",
    "fig.add_trace(fig_wc['data'][0], row = 5, col = 1)\n",
    "fig.add_trace(fig_wi['data'][0], row = 5, col = 2)\n",
    "\n",
    "fig.update_layout(height = 3000)\n",
    "fig.show()\n"
   ]
  },
  {
   "cell_type": "markdown",
   "metadata": {},
   "source": [
    "# Static Plots Сактоо"
   ]
  },
  {
   "cell_type": "code",
   "execution_count": null,
   "metadata": {},
   "outputs": [],
   "source": [
    "# install\n",
    "# conda install -c plotly plotly-orca==1.2.1 psutil requests\n"
   ]
  },
  {
   "cell_type": "code",
   "execution_count": null,
   "metadata": {},
   "outputs": [],
   "source": []
  },
  {
   "cell_type": "code",
   "execution_count": null,
   "metadata": {},
   "outputs": [],
   "source": [
    "if not os.path.exists('images'):\n",
    "    os.mkdir('images')"
   ]
  },
  {
   "cell_type": "code",
   "execution_count": null,
   "metadata": {
    "scrolled": true
   },
   "outputs": [],
   "source": [
    "fig.write_image('fig.png')"
   ]
  },
  {
   "cell_type": "code",
   "execution_count": null,
   "metadata": {},
   "outputs": [],
   "source": [
    "fig.write_image('images/fig.jpeg')"
   ]
  },
  {
   "cell_type": "code",
   "execution_count": null,
   "metadata": {},
   "outputs": [],
   "source": [
    "fig.write_image('images/fig.pdf')"
   ]
  },
  {
   "cell_type": "code",
   "execution_count": null,
   "metadata": {},
   "outputs": [],
   "source": []
  },
  {
   "cell_type": "code",
   "execution_count": null,
   "metadata": {},
   "outputs": [],
   "source": []
  },
  {
   "cell_type": "markdown",
   "metadata": {},
   "source": [
    "# Scatter Plot Каза болгон жана Тактыкталган учурлар үчүн "
   ]
  },
  {
   "cell_type": "code",
   "execution_count": null,
   "metadata": {},
   "outputs": [],
   "source": [
    "top = 15\n",
    "fig = px.scatter(countywise.sort_values('Deaths', ascending = False).head(top), \n",
    "                x = 'Confirmed', y = 'Deaths', color = 'Country', size = 'Confirmed', height = 600,\n",
    "                text = 'Country', log_x = True, log_y = True, title='Каза болгон vs Такталган учурлар (учурлар log10 масштабында)')\n",
    "\n",
    "fig.update_traces(textposition = 'top center')\n",
    "fig.update_layout(showlegend = False)\n",
    "fig.update_layout(xaxis_rangeslider_visible = True)\n",
    "fig.show()"
   ]
  },
  {
   "cell_type": "code",
   "execution_count": null,
   "metadata": {},
   "outputs": [],
   "source": [
    "countywise.sort_values('Deaths', ascending = False).head(15)"
   ]
  },
  {
   "cell_type": "code",
   "execution_count": null,
   "metadata": {},
   "outputs": [],
   "source": []
  },
  {
   "cell_type": "markdown",
   "metadata": {},
   "source": [
    "# Тастыкталган, Каза болгон, Жаңы учурлар vs Өлкө жана Убакыт"
   ]
  },
  {
   "cell_type": "markdown",
   "metadata": {},
   "source": [
    "## Bar Plot"
   ]
  },
  {
   "cell_type": "code",
   "execution_count": null,
   "metadata": {},
   "outputs": [],
   "source": [
    "fig = px.bar(country_daywise, x = 'Date', y = 'Confirmed', color = 'Country', height = 600,\n",
    "            title='Тастыкталган', color_discrete_sequence=px.colors.cyclical.mygbm)\n",
    "fig.show()"
   ]
  },
  {
   "cell_type": "code",
   "execution_count": null,
   "metadata": {},
   "outputs": [],
   "source": [
    "fig = px.bar(country_daywise, x = 'Date', y = 'Deaths', color = 'Country', height = 600,\n",
    "            title='Каза болгон', color_discrete_sequence=px.colors.cyclical.mygbm)\n",
    "fig.show()"
   ]
  },
  {
   "cell_type": "code",
   "execution_count": null,
   "metadata": {},
   "outputs": [],
   "source": [
    "fig = px.bar(country_daywise, x = 'Date', y = 'Recovered', color = 'Country', height = 600,\n",
    "            title='Айыгып кеткен', color_discrete_sequence=px.colors.cyclical.mygbm)\n",
    "fig.show()"
   ]
  },
  {
   "cell_type": "code",
   "execution_count": null,
   "metadata": {},
   "outputs": [],
   "source": [
    "fig = px.bar(country_daywise, x = 'Date', y = 'New Cases', color = 'Country', height = 600,\n",
    "            title='Жаңы учурлар', color_discrete_sequence=px.colors.cyclical.mygbm)\n",
    "fig.show()"
   ]
  },
  {
   "cell_type": "code",
   "execution_count": null,
   "metadata": {},
   "outputs": [],
   "source": []
  },
  {
   "cell_type": "code",
   "execution_count": null,
   "metadata": {},
   "outputs": [],
   "source": []
  },
  {
   "cell_type": "code",
   "execution_count": null,
   "metadata": {},
   "outputs": [],
   "source": []
  },
  {
   "cell_type": "markdown",
   "metadata": {},
   "source": [
    "## Line Plot "
   ]
  },
  {
   "cell_type": "code",
   "execution_count": null,
   "metadata": {
    "scrolled": false
   },
   "outputs": [],
   "source": [
    "fig = px.line(country_daywise, x = 'Date', y = 'Confirmed', color = 'Country', height = 600,\n",
    "             title='Тастыкталган', color_discrete_sequence = px.colors.cyclical.mygbm)\n",
    "fig.show()\n",
    "\n",
    "fig = px.line(country_daywise, x = 'Date', y = 'Deaths', color = 'Country', height = 600,\n",
    "             title='Каза болгон', color_discrete_sequence = px.colors.cyclical.mygbm)\n",
    "fig.show()\n",
    "\n",
    "fig = px.line(country_daywise, x = 'Date', y = 'Recovered', color = 'Country', height = 600,\n",
    "             title='Айыккан', color_discrete_sequence = px.colors.cyclical.mygbm)\n",
    "fig.show()"
   ]
  },
  {
   "cell_type": "code",
   "execution_count": null,
   "metadata": {},
   "outputs": [],
   "source": []
  },
  {
   "cell_type": "markdown",
   "metadata": {},
   "source": [
    "# 100 учурдан кийин өсүү темпи"
   ]
  },
  {
   "cell_type": "code",
   "execution_count": null,
   "metadata": {},
   "outputs": [],
   "source": [
    "df.head()"
   ]
  },
  {
   "cell_type": "code",
   "execution_count": null,
   "metadata": {},
   "outputs": [],
   "source": [
    "gt_100 = country_daywise[country_daywise['Confirmed']>100]['Country'].unique()\n",
    "temp = df[df['Country'].isin(gt_100)]\n",
    "\n",
    "temp = temp.groupby(['Country', 'Date'])['Confirmed'].sum().reset_index()\n",
    "temp = temp[temp['Confirmed']>100]\n",
    "\n",
    "\n",
    "min_date = temp.groupby('Country')['Date'].min().reset_index()\n",
    "min_date.columns = ['Country', 'Min Date']\n",
    "\n",
    "\n",
    "from_100th_case = pd.merge(temp, min_date, on = 'Country')\n",
    "from_100th_case['N days'] = (from_100th_case['Date'] - from_100th_case['Min Date']).dt.days\n",
    "\n",
    "fig = px.line(from_100th_case, x = 'N days', y = 'Confirmed', color = 'Country', title = 'N days from 100 case', height = 600)\n",
    "fig.show()"
   ]
  },
  {
   "cell_type": "code",
   "execution_count": null,
   "metadata": {},
   "outputs": [],
   "source": []
  },
  {
   "cell_type": "markdown",
   "metadata": {},
   "source": [
    "# 1000 учурдан кийин өсүү темпи"
   ]
  },
  {
   "cell_type": "code",
   "execution_count": null,
   "metadata": {},
   "outputs": [],
   "source": [
    "gt_1000 = country_daywise[country_daywise['Confirmed']>1000]['Country'].unique()\n",
    "temp = df[df['Country'].isin(gt_1000)]\n",
    "\n",
    "temp = temp.groupby(['Country', 'Date'])['Confirmed'].sum().reset_index()\n",
    "temp = temp[temp['Confirmed']>1000]\n",
    "\n",
    "\n",
    "min_date = temp.groupby('Country')['Date'].min().reset_index()\n",
    "min_date.columns = ['Country', 'Min Date']\n",
    "\n",
    "\n",
    "from_1000th_case = pd.merge(temp, min_date, on = 'Country')\n",
    "from_1000th_case['N days'] = (from_1000th_case['Date'] - from_1000th_case['Min Date']).dt.days\n",
    "\n",
    "fig = px.line(from_1000th_case, x = 'N days', y = 'Confirmed', color = 'Country', title = 'N days from 1000 case', height = 600)\n",
    "fig.show()"
   ]
  },
  {
   "cell_type": "markdown",
   "metadata": {},
   "source": [
    "# 10,000 учурдан кийин өсүү темпи "
   ]
  },
  {
   "cell_type": "code",
   "execution_count": null,
   "metadata": {},
   "outputs": [],
   "source": [
    "gt_10000 = country_daywise[country_daywise['Confirmed']>10000]['Country'].unique()\n",
    "temp = df[df['Country'].isin(gt_10000)]\n",
    "\n",
    "temp = temp.groupby(['Country', 'Date'])['Confirmed'].sum().reset_index()\n",
    "temp = temp[temp['Confirmed']>10000]\n",
    "\n",
    "\n",
    "min_date = temp.groupby('Country')['Date'].min().reset_index()\n",
    "min_date.columns = ['Country', 'Min Date']\n",
    "\n",
    "\n",
    "from_10000th_case = pd.merge(temp, min_date, on = 'Country')\n",
    "from_10000th_case['N days'] = (from_10000th_case['Date'] - from_10000th_case['Min Date']).dt.days\n",
    "\n",
    "fig = px.line(from_10000th_case, x = 'N days', y = 'Confirmed', color = 'Country', title = 'N days from 10000 case', height = 600)\n",
    "fig.show()"
   ]
  },
  {
   "cell_type": "markdown",
   "metadata": {},
   "source": [
    "# 100,000 учурдан кийин өсүү темпи"
   ]
  },
  {
   "cell_type": "code",
   "execution_count": null,
   "metadata": {},
   "outputs": [],
   "source": [
    "gt_100000 = country_daywise[country_daywise['Confirmed']>100000]['Country'].unique()\n",
    "temp = df[df['Country'].isin(gt_100000)]\n",
    "\n",
    "temp = temp.groupby(['Country', 'Date'])['Confirmed'].sum().reset_index()\n",
    "temp = temp[temp['Confirmed']>100000]\n",
    "\n",
    "\n",
    "min_date = temp.groupby('Country')['Date'].min().reset_index()\n",
    "min_date.columns = ['Country', 'Min Date']\n",
    "\n",
    "\n",
    "from_100000th_case = pd.merge(temp, min_date, on = 'Country')\n",
    "from_100000th_case['N days'] = (from_100000th_case['Date'] - from_100000th_case['Min Date']).dt.days\n",
    "\n",
    "fig = px.line(from_100000th_case, x = 'N days', y = 'Confirmed', color = 'Country', title = 'N days from 100000 case', height = 600)\n",
    "fig.show()"
   ]
  },
  {
   "cell_type": "code",
   "execution_count": null,
   "metadata": {},
   "outputs": [],
   "source": []
  },
  {
   "cell_type": "markdown",
   "metadata": {},
   "source": [
    "# Tree Map Analysis"
   ]
  },
  {
   "cell_type": "markdown",
   "metadata": {},
   "source": [
    "## Тастыкталган учур"
   ]
  },
  {
   "cell_type": "code",
   "execution_count": null,
   "metadata": {},
   "outputs": [],
   "source": [
    "full_latest = df[df['Date'] == max(df['Date'])]\n",
    "\n",
    "fig = px.treemap(full_latest.sort_values(by = 'Confirmed', ascending = False).reset_index(drop = True),\n",
    "                path = ['Country', 'Province/State'], values = 'Confirmed', height = 700,\n",
    "                title = 'Тастыкталган учурлардын саны',\n",
    "                color_discrete_sequence = px.colors.qualitative.Dark2)\n",
    "\n",
    "fig.data[0].textinfo = 'label+text+value'\n",
    "fig.show()"
   ]
  },
  {
   "cell_type": "markdown",
   "metadata": {},
   "source": [
    "## Каза болгон учур"
   ]
  },
  {
   "cell_type": "code",
   "execution_count": null,
   "metadata": {},
   "outputs": [],
   "source": [
    "full_latest = df[df['Date'] == max(df['Date'])]\n",
    "\n",
    "fig = px.treemap(full_latest.sort_values(by = 'Deaths', ascending = False).reset_index(drop = True),\n",
    "                path = ['Country', 'Province/State'], values = 'Deaths', height = 700,\n",
    "                title = 'Каза болгон учурлардын саны',\n",
    "                color_discrete_sequence = px.colors.qualitative.Dark2)\n",
    "\n",
    "fig.data[0].textinfo = 'label+text+value'\n",
    "fig.show()"
   ]
  },
  {
   "cell_type": "markdown",
   "metadata": {},
   "source": [
    "# Баштапкы жана Акыркы учурлар Report Time"
   ]
  },
  {
   "cell_type": "code",
   "execution_count": null,
   "metadata": {
    "scrolled": false
   },
   "outputs": [],
   "source": [
    "first_date = df[df['Confirmed']>0]\n",
    "first_date = first_date.groupby('Country')['Date'].agg(['min']).reset_index()\n",
    "\n",
    "\n",
    "last_date = df.groupby(['Country', 'Date'])['Confirmed', 'Deaths', 'Recovered']\n",
    "last_date = last_date.sum().diff().reset_index()\n",
    "\n",
    "\n",
    "mask = (last_date['Country'] != last_date['Country'].shift(1))\n",
    "\n",
    "last_date.loc[mask, 'Confirmed'] = np.nan\n",
    "last_date.loc[mask, 'Deaths'] = np.nan\n",
    "last_date.loc[mask, 'Recovered'] = np.nan\n",
    "\n",
    "last_date = last_date[last_date['Confirmed']>0]\n",
    "last_date = last_date.groupby('Country')['Date'].agg(['max']).reset_index()\n",
    "\n",
    "\n",
    "first_last = pd.concat([first_date, last_date['max']], axis = 1)\n",
    "first_last['max'] = first_last['max'] + timedelta(days = 1)\n",
    "\n",
    "first_last['Days'] = first_last['max'] - first_last['min']\n",
    "first_last['Task'] = first_last['Country']\n",
    "\n",
    "first_last.columns = ['Country', 'Start', 'Finish', 'Days', 'Task']\n",
    "\n",
    "first_last = first_last.sort_values('Days')\n",
    "\n",
    "colors = ['#' + ''.join([random.choice('0123456789ABCDEF') for j in range(6)]) for i in range(len(first_last))]\n",
    "\n",
    "fig = ff.create_gantt(first_last, index_col = 'Country', colors = colors, show_colorbar = False,\n",
    "                     bar_width=0.2, showgrid_x = True, showgrid_y=True, height = 2500)\n",
    "\n",
    "fig.show()"
   ]
  },
  {
   "cell_type": "markdown",
   "metadata": {},
   "source": [
    "# Тастыкталган учурлар өлкө жана күн боюнча"
   ]
  },
  {
   "cell_type": "code",
   "execution_count": null,
   "metadata": {},
   "outputs": [],
   "source": [
    "country_daywise.head()"
   ]
  },
  {
   "cell_type": "code",
   "execution_count": null,
   "metadata": {
    "scrolled": false
   },
   "outputs": [],
   "source": [
    "temp = country_daywise.groupby(['Country', 'Date'])['Confirmed'].sum().reset_index()\n",
    "temp = temp[temp['Country'].isin(gt_10000)]\n",
    "\n",
    "countries = temp['Country'].unique()\n",
    "\n",
    "ncols = 3\n",
    "nrows = math.ceil(len(countries)/ncols)\n",
    "\n",
    "fig = make_subplots(rows=nrows, cols = ncols, shared_xaxes= False, subplot_titles=countries)\n",
    "\n",
    "for ind, country in enumerate(countries):\n",
    "    row = int((ind/ncols)+1)\n",
    "    col = int((ind%ncols)+1)\n",
    "    fig.add_trace(go.Bar(x = temp['Date'], y = temp.loc[temp['Country']==country, 'Confirmed'], name = country), row = row, col = col)\n",
    "    \n",
    "fig.update_layout(height=4000, title_text = 'Ар бир өлкөдө тастыкталган учурлар')\n",
    "fig.update_layout(showlegend = False)\n",
    "fig.show()"
   ]
  },
  {
   "cell_type": "markdown",
   "metadata": {},
   "source": [
    "# COVID-19 жана башка ушул сыяктуу эпидемиялар"
   ]
  },
  {
   "cell_type": "code",
   "execution_count": null,
   "metadata": {},
   "outputs": [],
   "source": [
    "full_latest_latest"
   ]
  },
  {
   "cell_type": "code",
   "execution_count": null,
   "metadata": {},
   "outputs": [],
   "source": [
    "# Wikipedia Source\n",
    "\n",
    "epidemics = pd.DataFrame({\n",
    "    'epidemic' : ['COVID-19', 'ТОРС', 'EBOLA', 'MERS', 'H1N1'],\n",
    "    'start_year' : [2019, 2002, 2013, 2012, 2009],\n",
    "    'end_year' : [2022, 2004, 2016, 2020, 2010],\n",
    "    'confirmed' : [full_latest['Confirmed'].sum(), 8422, 28646, 2519, 6724149],\n",
    "    'deaths' : [full_latest['Deaths'].sum(), 813, 11323, 866, 19654]\n",
    "})\n",
    "\n",
    "epidemics['mortality'] = round((epidemics['deaths']/epidemics['confirmed'])*100, 2)\n",
    "\n",
    "epidemics.head()"
   ]
  },
  {
   "cell_type": "code",
   "execution_count": null,
   "metadata": {},
   "outputs": [],
   "source": [
    "temp = epidemics.melt(id_vars='epidemic', value_vars=['confirmed', 'deaths', 'mortality'],\n",
    "                     var_name='Case', value_name='Value')\n",
    "\n",
    "fig = px.bar(temp, x = 'epidemic', y = 'Value', color = 'epidemic', text = 'Value', facet_col = 'Case',\n",
    "            color_discrete_sequence= px.colors.qualitative.Bold)\n",
    "\n",
    "fig.update_traces(textposition='outside')\n",
    "fig.update_layout(uniformtext_minsize = 8, uniformtext_mode = 'hide')\n",
    "fig.update_yaxes(showticklabels = False)\n",
    "fig.layout.yaxis2.update(matches = None)\n",
    "fig.layout.yaxis3.update(matches = None)\n",
    "fig.show()"
   ]
  },
  {
   "cell_type": "code",
   "execution_count": null,
   "metadata": {},
   "outputs": [],
   "source": []
  },
  {
   "cell_type": "code",
   "execution_count": null,
   "metadata": {},
   "outputs": [],
   "source": []
  },
  {
   "cell_type": "code",
   "execution_count": null,
   "metadata": {},
   "outputs": [],
   "source": []
  },
  {
   "cell_type": "code",
   "execution_count": null,
   "metadata": {},
   "outputs": [],
   "source": []
  },
  {
   "cell_type": "code",
   "execution_count": null,
   "metadata": {},
   "outputs": [],
   "source": []
  },
  {
   "cell_type": "code",
   "execution_count": null,
   "metadata": {},
   "outputs": [],
   "source": []
  },
  {
   "cell_type": "code",
   "execution_count": null,
   "metadata": {},
   "outputs": [],
   "source": []
  },
  {
   "cell_type": "code",
   "execution_count": null,
   "metadata": {},
   "outputs": [],
   "source": []
  },
  {
   "cell_type": "code",
   "execution_count": null,
   "metadata": {},
   "outputs": [],
   "source": []
  },
  {
   "cell_type": "code",
   "execution_count": null,
   "metadata": {},
   "outputs": [],
   "source": []
  },
  {
   "cell_type": "code",
   "execution_count": null,
   "metadata": {},
   "outputs": [],
   "source": []
  },
  {
   "cell_type": "code",
   "execution_count": null,
   "metadata": {},
   "outputs": [],
   "source": []
  },
  {
   "cell_type": "code",
   "execution_count": null,
   "metadata": {},
   "outputs": [],
   "source": []
  },
  {
   "cell_type": "code",
   "execution_count": null,
   "metadata": {},
   "outputs": [],
   "source": []
  },
  {
   "cell_type": "code",
   "execution_count": null,
   "metadata": {},
   "outputs": [],
   "source": []
  },
  {
   "cell_type": "code",
   "execution_count": null,
   "metadata": {},
   "outputs": [],
   "source": []
  },
  {
   "cell_type": "code",
   "execution_count": null,
   "metadata": {},
   "outputs": [],
   "source": []
  },
  {
   "cell_type": "code",
   "execution_count": null,
   "metadata": {},
   "outputs": [],
   "source": []
  },
  {
   "cell_type": "code",
   "execution_count": null,
   "metadata": {},
   "outputs": [],
   "source": []
  },
  {
   "cell_type": "code",
   "execution_count": null,
   "metadata": {},
   "outputs": [],
   "source": []
  },
  {
   "cell_type": "code",
   "execution_count": null,
   "metadata": {},
   "outputs": [],
   "source": []
  },
  {
   "cell_type": "code",
   "execution_count": null,
   "metadata": {},
   "outputs": [],
   "source": []
  },
  {
   "cell_type": "code",
   "execution_count": null,
   "metadata": {},
   "outputs": [],
   "source": []
  },
  {
   "cell_type": "code",
   "execution_count": null,
   "metadata": {},
   "outputs": [],
   "source": []
  },
  {
   "cell_type": "code",
   "execution_count": null,
   "metadata": {},
   "outputs": [],
   "source": []
  },
  {
   "cell_type": "code",
   "execution_count": null,
   "metadata": {},
   "outputs": [],
   "source": []
  },
  {
   "cell_type": "code",
   "execution_count": null,
   "metadata": {},
   "outputs": [],
   "source": []
  },
  {
   "cell_type": "code",
   "execution_count": null,
   "metadata": {},
   "outputs": [],
   "source": []
  },
  {
   "cell_type": "code",
   "execution_count": null,
   "metadata": {},
   "outputs": [],
   "source": []
  },
  {
   "cell_type": "code",
   "execution_count": null,
   "metadata": {},
   "outputs": [],
   "source": []
  },
  {
   "cell_type": "code",
   "execution_count": null,
   "metadata": {},
   "outputs": [],
   "source": []
  },
  {
   "cell_type": "code",
   "execution_count": null,
   "metadata": {},
   "outputs": [],
   "source": []
  },
  {
   "cell_type": "code",
   "execution_count": null,
   "metadata": {},
   "outputs": [],
   "source": []
  },
  {
   "cell_type": "code",
   "execution_count": null,
   "metadata": {},
   "outputs": [],
   "source": []
  },
  {
   "cell_type": "code",
   "execution_count": null,
   "metadata": {},
   "outputs": [],
   "source": []
  },
  {
   "cell_type": "code",
   "execution_count": null,
   "metadata": {},
   "outputs": [],
   "source": []
  }
 ],
 "metadata": {
  "kernelspec": {
   "display_name": "Python 3 (ipykernel)",
   "language": "python",
   "name": "python3"
  },
  "language_info": {
   "codemirror_mode": {
    "name": "ipython",
    "version": 3
   },
   "file_extension": ".py",
   "mimetype": "text/x-python",
   "name": "python",
   "nbconvert_exporter": "python",
   "pygments_lexer": "ipython3",
   "version": "3.9.12"
  }
 },
 "nbformat": 4,
 "nbformat_minor": 4
}
